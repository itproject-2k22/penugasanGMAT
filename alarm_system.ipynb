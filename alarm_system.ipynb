{
 "cells": [
  {
   "cell_type": "code",
   "execution_count": 130,
   "metadata": {},
   "outputs": [],
   "source": [
    "alertPrompt = [\"pada descent rate Container\",\"pada descent rate Science Payload\", \"data posisi Container\", \"data posisi Science Payload\", \"release/separasi\"]"
   ]
  },
  {
   "cell_type": "markdown",
   "metadata": {},
   "source": [
    "Berisi beberapa text alret yang ada"
   ]
  },
  {
   "cell_type": "code",
   "execution_count": null,
   "metadata": {},
   "outputs": [],
   "source": [
    "def printAlertPrompt(matrice , alertPrompt):\n",
    "    print(\"=Display Error=\")\n",
    "    allSuccessStat = True\n",
    "    for i in range(5):\n",
    "        if matrice[i] == 1:\n",
    "            print(\"Terjadi kegagalan\", alertPrompt[i])\n",
    "            allSuccessStat = False\n",
    "    print(\"===============\")\n",
    "    return allSuccessStat"
   ]
  },
  {
   "cell_type": "markdown",
   "metadata": {},
   "source": [
    "Fungsi untuk mendisplay eror yang terjadi dengan memanfaatkan array bit dan array text alert dalam loop FOR."
   ]
  },
  {
   "cell_type": "code",
   "execution_count": null,
   "metadata": {},
   "outputs": [],
   "source": [
    "def decimalToBinerMatrice(x):\n",
    "    matrice = []\n",
    "    i = 4\n",
    "    while i>=0:\n",
    "        #print(i,\"\\t\",x,\"\\t\",2**i)\n",
    "        if x >= 2**i:\n",
    "            matrice.append(1)\n",
    "            x = abs(x - 2**i)\n",
    "        else:\n",
    "            matrice.append(0)\n",
    "        i = i-1\n",
    "    return matrice"
   ]
  },
  {
   "cell_type": "markdown",
   "metadata": {},
   "source": [
    "Fungsi untuk mengubah bilangan desimal ke bentuk array bit."
   ]
  },
  {
   "cell_type": "code",
   "execution_count": null,
   "metadata": {},
   "outputs": [],
   "source": [
    "def alarmSystem(x, alertPrompt):\n",
    "    matrice = decimalToBinerMatrice(x)\n",
    "    allSuccessStat = printAlertPrompt(matrice, alertPrompt)\n",
    "    if allSuccessStat == 1:\n",
    "        print(\"Tidak terjadi kegagalan\")\n",
    "    else:\n",
    "        print(\"Kode Error: \", matrice)"
   ]
  },
  {
   "cell_type": "markdown",
   "metadata": {},
   "source": [
    "Fungsi untuk mengetahui bahwa terdapat error sesuai input"
   ]
  },
  {
   "cell_type": "code",
   "execution_count": 135,
   "metadata": {},
   "outputs": [],
   "source": [
    "def mainProgram():\n",
    "    x = int(input(\"Input\\t: \"))\n",
    "    while x > 31:\n",
    "        print(\"Diluar Batas, mohon ulangi\")\n",
    "        x = int(input(\"Input\\t: \"))\n",
    "    alarmSystem(x, alertPrompt)"
   ]
  },
  {
   "cell_type": "markdown",
   "metadata": {},
   "source": [
    "Program utama dimana input dan program alarmSystem digabungkan"
   ]
  },
  {
   "cell_type": "code",
   "execution_count": 134,
   "metadata": {},
   "outputs": [
    {
     "name": "stdout",
     "output_type": "stream",
     "text": [
      "=Display Error=\n",
      "===============\n",
      "Tidak terjadi kegagalan\n"
     ]
    }
   ],
   "source": [
    "mainProgram()"
   ]
  }
 ],
 "metadata": {
  "kernelspec": {
   "display_name": "Python 3",
   "language": "python",
   "name": "python3"
  },
  "language_info": {
   "codemirror_mode": {
    "name": "ipython",
    "version": 3
   },
   "file_extension": ".py",
   "mimetype": "text/x-python",
   "name": "python",
   "nbconvert_exporter": "python",
   "pygments_lexer": "ipython3",
   "version": "3.11.5"
  }
 },
 "nbformat": 4,
 "nbformat_minor": 2
}
