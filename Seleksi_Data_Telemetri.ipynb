{
 "cells": [
  {
   "cell_type": "code",
   "execution_count": 2,
   "metadata": {},
   "outputs": [],
   "source": [
    "def inputData(n):\n",
    "    data = []\n",
    "    for i in range(n):\n",
    "        element = input(\"insert data:\")\n",
    "        element = element.split(\",\")\n",
    "        data.append(element)\n",
    "    return data"
   ]
  },
  {
   "cell_type": "code",
   "execution_count": 17,
   "metadata": {},
   "outputs": [],
   "source": [
    "def validation(id, data):\n",
    "    if len(data) != 6:\n",
    "        return False\n",
    "    elif data[0] != id:\n",
    "        return False\n",
    "    elif len(data[1]) != 8:\n",
    "        return False\n",
    "    elif data[1][2] != ':' or data[1][5] != ':':\n",
    "        return False\n",
    "    elif data[5][-1] != ';':\n",
    "        return False\n",
    "    else:\n",
    "        return True"
   ]
  },
  {
   "cell_type": "code",
   "execution_count": 3,
   "metadata": {},
   "outputs": [],
   "source": [
    "def printValidation(data):\n",
    "    for i in range(len(data)):\n",
    "        if data[i] == True:\n",
    "            print(\"VALID\")\n",
    "        else:\n",
    "            print(\"NOT VALID\")"
   ]
  },
  {
   "cell_type": "code",
   "execution_count": 4,
   "metadata": {},
   "outputs": [],
   "source": [
    "def mainProgram():\n",
    "    idteam = input(\"Insert IDTEAM:\")\n",
    "    n = int(input(\"How many data:\"))\n",
    "    data = inputData(n)\n",
    "    valid = []\n",
    "    for i in range(n):\n",
    "        valid.append(validation(idteam, data))\n",
    "    printValidation(valid)\n",
    "    "
   ]
  },
  {
   "cell_type": "code",
   "execution_count": 5,
   "metadata": {},
   "outputs": [
    {
     "name": "stdout",
     "output_type": "stream",
     "text": [
      "NOT VALID\n"
     ]
    }
   ],
   "source": [
    "mainProgram()"
   ]
  }
 ],
 "metadata": {
  "kernelspec": {
   "display_name": "Python 3",
   "language": "python",
   "name": "python3"
  },
  "language_info": {
   "codemirror_mode": {
    "name": "ipython",
    "version": 3
   },
   "file_extension": ".py",
   "mimetype": "text/x-python",
   "name": "python",
   "nbconvert_exporter": "python",
   "pygments_lexer": "ipython3",
   "version": "3.11.5"
  }
 },
 "nbformat": 4,
 "nbformat_minor": 2
}
